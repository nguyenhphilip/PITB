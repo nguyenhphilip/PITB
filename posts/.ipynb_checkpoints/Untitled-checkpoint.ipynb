{
 "cells": [
  {
   "cell_type": "code",
   "execution_count": 4,
   "id": "6e1efd1d",
   "metadata": {},
   "outputs": [],
   "source": [
    "import os\n",
    "import glob"
   ]
  },
  {
   "cell_type": "code",
   "execution_count": 5,
   "id": "89a53f5e",
   "metadata": {},
   "outputs": [],
   "source": [
    "list_ = glob.glob(f\"{os.getcwd()}/*.md\")\n",
    "list_\n",
    "for f in list_:\n",
    "    s = f.split(\"/\")[-1]\n",
    "    folder = s.split(\".\")[0]\n",
    "    try:\n",
    "        os.mkdir(folder)\n",
    "    except:\n",
    "        print(folder, \" exists\")"
   ]
  },
  {
   "cell_type": "code",
   "execution_count": 6,
   "id": "ea2608cc",
   "metadata": {},
   "outputs": [
    {
     "ename": "NotADirectoryError",
     "evalue": "[Errno 20] Not a directory: '2019-03-12-shoreless-seeds-and-stardust.md'",
     "output_type": "error",
     "traceback": [
      "\u001b[0;31m---------------------------------------------------------------------------\u001b[0m",
      "\u001b[0;31mNotADirectoryError\u001b[0m                        Traceback (most recent call last)",
      "\u001b[0;32m/var/folders/_0/jmv7zq950x90lpqnqndvl14w0000gn/T/ipykernel_44303/3071150345.py\u001b[0m in \u001b[0;36m<module>\u001b[0;34m\u001b[0m\n\u001b[1;32m      2\u001b[0m     \u001b[0;32mif\u001b[0m \u001b[0mfolder\u001b[0m \u001b[0;34m==\u001b[0m \u001b[0;34m\".DS_Store\"\u001b[0m \u001b[0;32mor\u001b[0m \u001b[0mfolder\u001b[0m \u001b[0;34m==\u001b[0m \u001b[0;34m\"Untitled.ipynb\"\u001b[0m \u001b[0;32mor\u001b[0m \u001b[0mfolder\u001b[0m \u001b[0;34m==\u001b[0m \u001b[0;34m\".ipynb_checkpoints\"\u001b[0m\u001b[0;34m:\u001b[0m\u001b[0;34m\u001b[0m\u001b[0;34m\u001b[0m\u001b[0m\n\u001b[1;32m      3\u001b[0m         \u001b[0;32mcontinue\u001b[0m\u001b[0;34m\u001b[0m\u001b[0;34m\u001b[0m\u001b[0m\n\u001b[0;32m----> 4\u001b[0;31m     \u001b[0mprint\u001b[0m\u001b[0;34m(\u001b[0m\u001b[0mfolder\u001b[0m\u001b[0;34m,\u001b[0m \u001b[0mos\u001b[0m\u001b[0;34m.\u001b[0m\u001b[0mlistdir\u001b[0m\u001b[0;34m(\u001b[0m\u001b[0mfolder\u001b[0m\u001b[0;34m)\u001b[0m\u001b[0;34m[\u001b[0m\u001b[0;36m0\u001b[0m\u001b[0;34m]\u001b[0m\u001b[0;34m)\u001b[0m\u001b[0;34m\u001b[0m\u001b[0;34m\u001b[0m\u001b[0m\n\u001b[0m\u001b[1;32m      5\u001b[0m     \u001b[0mos\u001b[0m\u001b[0;34m.\u001b[0m\u001b[0mrename\u001b[0m\u001b[0;34m(\u001b[0m\u001b[0;34mf\"{folder}/{os.listdir(folder)[0]}\"\u001b[0m\u001b[0;34m,\u001b[0m \u001b[0;34mf\"{folder}/index.md\"\u001b[0m\u001b[0;34m)\u001b[0m\u001b[0;34m\u001b[0m\u001b[0;34m\u001b[0m\u001b[0m\n",
      "\u001b[0;31mNotADirectoryError\u001b[0m: [Errno 20] Not a directory: '2019-03-12-shoreless-seeds-and-stardust.md'"
     ]
    }
   ],
   "source": [
    "for folder in os.listdir():\n",
    "    if folder == \".DS_Store\" or folder == \"Untitled.ipynb\" or folder == \".ipynb_checkpoints\":\n",
    "        continue\n",
    "    print(folder, os.listdir(folder)[0])\n",
    "    os.rename(f\"{folder}/{os.listdir(folder)[0]}\", f\"{folder}/index.md\")"
   ]
  },
  {
   "cell_type": "code",
   "execution_count": null,
   "id": "95c33681",
   "metadata": {},
   "outputs": [],
   "source": []
  }
 ],
 "metadata": {
  "kernelspec": {
   "display_name": "Python 3 (ipykernel)",
   "language": "python",
   "name": "python3"
  },
  "language_info": {
   "codemirror_mode": {
    "name": "ipython",
    "version": 3
   },
   "file_extension": ".py",
   "mimetype": "text/x-python",
   "name": "python",
   "nbconvert_exporter": "python",
   "pygments_lexer": "ipython3",
   "version": "3.9.6"
  }
 },
 "nbformat": 4,
 "nbformat_minor": 5
}
